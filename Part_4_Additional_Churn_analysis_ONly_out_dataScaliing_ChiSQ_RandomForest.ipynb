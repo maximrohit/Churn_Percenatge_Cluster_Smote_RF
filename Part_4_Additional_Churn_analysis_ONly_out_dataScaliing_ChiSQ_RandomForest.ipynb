{
 "cells": [
  {
   "cell_type": "code",
   "execution_count": null,
   "metadata": {},
   "outputs": [],
   "source": [
    "import random\n",
    "import nltk\n",
    "import pandas as pd\n",
    "from sklearn.feature_extraction.text import TfidfVectorizer\n",
    "from sklearn.pipeline import Pipeline\n",
    "from sklearn.metrics import classification_report, confusion_matrix\n",
    "from sklearn.model_selection import train_test_split\n",
    "from sklearn.feature_selection import SelectKBest, chi2\n",
    "from sklearn.ensemble import RandomForestClassifier\n",
    "import pickle\n",
    "import numpy as np\n",
    "from sklearn.preprocessing import MinMaxScaler\n",
    "import eli5\n",
    "from eli5.sklearn import PermutationImportance\n",
    "import matplotlib.pyplot as plt"
   ]
  },
  {
   "cell_type": "code",
   "execution_count": null,
   "metadata": {},
   "outputs": [],
   "source": [
    "Base_data_merge=pd.read_csv('E:/Documents/Yagna/prep_data/Base_data_merge.csv')"
   ]
  },
  {
   "cell_type": "code",
   "execution_count": null,
   "metadata": {},
   "outputs": [],
   "source": [
    "Base_data_merge.drop(['Total_Price', 'Count_pro_ser', 'Cat_pro_ser', 'CountForCat_pro_ser',\n",
    "       'Quantity_log', 'CountForCat_pro_ser_bin', 'Total_Price_log',\n",
    "       'Product_price_log', 'services_price_log'], axis=1, inplace=True)\n"
   ]
  },
  {
   "cell_type": "code",
   "execution_count": null,
   "metadata": {},
   "outputs": [],
   "source": [
    "#Base_data_merge.head()"
   ]
  },
  {
   "cell_type": "code",
   "execution_count": null,
   "metadata": {},
   "outputs": [],
   "source": [
    "#Base_data_merge.info()"
   ]
  },
  {
   "cell_type": "code",
   "execution_count": null,
   "metadata": {},
   "outputs": [],
   "source": [
    "Base_data_merge.columns"
   ]
  },
  {
   "cell_type": "code",
   "execution_count": null,
   "metadata": {},
   "outputs": [],
   "source": [
    " Base_data_merge_ltd=Base_data_merge[['Existing_Contract_Number', 'Sales_Stage',\n",
    "       'Expiring_Contract_End_Date', \n",
    "       'Renewal_Contract_Duration', 'EA_Segment', 'Country_Name', 'State',\n",
    "       'X__Original_Opty_Val_Annualized',\n",
    "       'PFST_Geo', 'PFST_Region', 'Batch_Type', 'Sub-Batch_Type',\n",
    "       'First_Renewal', 'CON_Existing_Contract', 'Diff_inDays', 'RenewalType',\n",
    "       'CUS_On_Time_percent', 'CUS_Early_percent', 'CUS_Delayed_percent',\n",
    "       'CON_On_Time_percent', 'CON_Early_percent', 'CON_Delayed_percent',\n",
    "       'mark_1_if_renewal', 'CON_number_renewal', 'CUS_number_renewal',\n",
    "       'CON_Renewal_Contract_Duration_0.05_percentile',\n",
    "       'CON_Renewal_Contract_Duration_0.1_percentile',\n",
    "       'CON_Renewal_Contract_Duration_0.25_percentile',\n",
    "       'CON_Renewal_Contract_Duration_0.5_percentile',\n",
    "       'CON_Renewal_Contract_Duration_0.75_percentile',\n",
    "       'CON_Renewal_Contract_Duration_0.9_percentile',\n",
    "       'CON_Renewal_Contract_Duration_0.95_percentile',\n",
    "       'CON_Renewal_Contract_Duration_0.99_percentile',\n",
    "       'CON_Diff_inDays_0.05_percentile', 'CON_Diff_inDays_0.1_percentile',\n",
    "       'CON_Diff_inDays_0.25_percentile', 'CON_Diff_inDays_0.5_percentile',\n",
    "       'CON_Diff_inDays_0.75_percentile', 'CON_Diff_inDays_0.9_percentile',\n",
    "       'CON_Diff_inDays_0.95_percentile', 'CON_Diff_inDays_0.99_percentile',\n",
    "       'CUS_Renewal_Contract_Duration_0.05_percentile',\n",
    "       'CUS_Renewal_Contract_Duration_0.1_percentile',\n",
    "       'CUS_Renewal_Contract_Duration_0.25_percentile',\n",
    "       'CUS_Renewal_Contract_Duration_0.5_percentile',\n",
    "       'CUS_Renewal_Contract_Duration_0.75_percentile',\n",
    "       'CUS_Renewal_Contract_Duration_0.9_percentile',\n",
    "       'CUS_Renewal_Contract_Duration_0.95_percentile',\n",
    "       'CUS_Renewal_Contract_Duration_0.99_percentile',\n",
    "       'CUS_Diff_inDays_0.05_percentile', 'CUS_Diff_inDays_0.1_percentile',\n",
    "       'CUS_Diff_inDays_0.25_percentile', 'CUS_Diff_inDays_0.5_percentile',\n",
    "       'CUS_Diff_inDays_0.75_percentile', 'CUS_Diff_inDays_0.9_percentile',\n",
    "       'CUS_Diff_inDays_0.95_percentile', 'CUS_Diff_inDays_0.99_percentile',\n",
    "       'is_current_renewal_First_Renewal_', 'last_renewal']]"
   ]
  },
  {
   "cell_type": "code",
   "execution_count": null,
   "metadata": {},
   "outputs": [],
   "source": [
    "Base_data_merge_ltd['Sales_Stage']=Base_data_merge_ltd['Sales_Stage'].map({'06 - Closed Won':0, '07 - Closed Lost':1})\n",
    "Base_data_merge_ltd.Expiring_Contract_End_Date=pd.to_datetime(Base_data_merge_ltd.Expiring_Contract_End_Date, format='%Y-%m-%d')\n",
    "Base_data_merge_ltd.Renewal_Contract_Duration=Base_data_merge_ltd.Renewal_Contract_Duration.astype(float)\n",
    "Base_data_merge_ltd.X__Original_Opty_Val_Annualized=pd.cut(Base_data_merge_ltd.X__Original_Opty_Val_Annualized, 20).cat.codes\n",
    "Base_data_merge_ltd.Renewal_Contract_Duration=pd.cut(Base_data_merge_ltd.Renewal_Contract_Duration, 20).cat.codes\n",
    "Base_data_merge_ltd.First_Renewal=Base_data_merge_ltd.First_Renewal.astype(str).map({'0':False, '1':True, '2':True})"
   ]
  },
  {
   "cell_type": "code",
   "execution_count": null,
   "metadata": {},
   "outputs": [],
   "source": [
    "#Base_data_merge_ltd.EA_Segment.unique()"
   ]
  },
  {
   "cell_type": "code",
   "execution_count": null,
   "metadata": {},
   "outputs": [],
   "source": [
    "#Base_data_merge_ltd.columns"
   ]
  },
  {
   "cell_type": "code",
   "execution_count": null,
   "metadata": {},
   "outputs": [],
   "source": [
    "Base_data_merge_ltd.loc[Base_data_merge_ltd.last_renewal=='Did not renew',['last_renewal']]=''"
   ]
  },
  {
   "cell_type": "code",
   "execution_count": null,
   "metadata": {},
   "outputs": [],
   "source": [
    "Base_data_merge_ltd.drop('PFST_Region', axis=1, inplace=True)\n",
    "Base_data_merge_ltd.drop('Expiring_Contract_End_Date', axis=1, inplace=True)    \n",
    "Base_data_merge_ltd.drop('RenewalType', axis=1, inplace=True)   \n",
    "Base_data_merge_ltd.drop('Sub-Batch_Type', axis=1, inplace=True)   \n",
    "Base_data_merge_ltd.drop('mark_1_if_renewal', axis=1, inplace=True)   \n",
    "\n"
   ]
  },
  {
   "cell_type": "code",
   "execution_count": null,
   "metadata": {},
   "outputs": [],
   "source": [
    "dum = pd.get_dummies(Base_data_merge_ltd[['EA_Segment','Country_Name','State','PFST_Geo','Batch_Type','last_renewal']], drop_first = True)"
   ]
  },
  {
   "cell_type": "code",
   "execution_count": null,
   "metadata": {},
   "outputs": [],
   "source": [
    "Base_data_merge_ltd = pd.concat([Base_data_merge_ltd, dum], axis = 1)\n",
    "\n",
    "# Now let's see the head of our dataframe.\n",
    "#housing.head()\n",
    "# Drop 'furnishingstatus' as we have created the dummies for it\n",
    "Base_data_merge_ltd_1hot=Base_data_merge_ltd.drop(['EA_Segment','Country_Name','State','PFST_Geo','Batch_Type','last_renewal'], axis = 1)\n",
    "\n",
    "#housing.head()"
   ]
  },
  {
   "cell_type": "code",
   "execution_count": null,
   "metadata": {},
   "outputs": [],
   "source": [
    "#Base_data_merge_ltd.info()"
   ]
  },
  {
   "cell_type": "code",
   "execution_count": null,
   "metadata": {},
   "outputs": [],
   "source": [
    "#Base_data_merge_ltd_null=Base_data_merge_ltd_1hot.isnull().sum()"
   ]
  },
  {
   "cell_type": "code",
   "execution_count": null,
   "metadata": {},
   "outputs": [],
   "source": [
    "#Base_data_merge_ltd_1hot.loc[Base_data_merge_ltd_1hot>0]"
   ]
  },
  {
   "cell_type": "code",
   "execution_count": null,
   "metadata": {},
   "outputs": [],
   "source": [
    "#Base_data_merge_ltd_clean.isnull().sum()"
   ]
  },
  {
   "cell_type": "code",
   "execution_count": null,
   "metadata": {},
   "outputs": [],
   "source": [
    "Base_data_merge_ltd_clean=Base_data_merge_ltd_1hot.dropna()"
   ]
  },
  {
   "cell_type": "code",
   "execution_count": null,
   "metadata": {},
   "outputs": [],
   "source": [
    "Base_data_merge_ltd_clean.shape"
   ]
  },
  {
   "cell_type": "code",
   "execution_count": null,
   "metadata": {},
   "outputs": [],
   "source": [
    "Y = Base_data_merge_ltd_clean.Sales_Stage\n",
    "X =Base_data_merge_ltd_clean.drop('Sales_Stage', axis=1)"
   ]
  },
  {
   "cell_type": "code",
   "execution_count": null,
   "metadata": {},
   "outputs": [],
   "source": [
    "X_train, X_test, y_train, y_test = train_test_split(X, Y, test_size=0.2)"
   ]
  },
  {
   "cell_type": "code",
   "execution_count": null,
   "metadata": {},
   "outputs": [],
   "source": [
    "X_train_Existing_Contract_Number=X_train.Existing_Contract_Number                         \n",
    "X_test_Existing_Contract_Number=X_test.Existing_Contract_Number   \n",
    "\n",
    "X_train =X_train.drop('Existing_Contract_Number', axis=1)\n",
    "X_test =X_test.drop('Existing_Contract_Number', axis=1)\n"
   ]
  },
  {
   "cell_type": "code",
   "execution_count": null,
   "metadata": {},
   "outputs": [],
   "source": [
    "#X_train.\n",
    "#X_testgroupby('ContractNumber').count()\n",
    "print(y_train.count())\n",
    "print(y_test.count())\n",
    "print(y_train.sum())\n",
    "print(y_test.sum())\n",
    "print(y_train.sum()/y_train.count())\n",
    "print(y_test.sum()/y_test.count())"
   ]
  },
  {
   "cell_type": "code",
   "execution_count": null,
   "metadata": {},
   "outputs": [],
   "source": [
    "pipeline = Pipeline([('sca',MinMaxScaler()),\n",
    "                     ('chi',  SelectKBest(chi2, k=15)),\n",
    "                     ('clf', RandomForestClassifier())])"
   ]
  },
  {
   "cell_type": "code",
   "execution_count": null,
   "metadata": {},
   "outputs": [],
   "source": [
    "model = pipeline.fit(X_train, y_train)\n",
    "with open('Churn_chi15_outdata.pickle', 'wb') as f:\n",
    "    pickle.dump(model, f)\n",
    "ytest = np.array(y_test)\n",
    "# confusion matrix and classification report(precision, recall, F1-score)\n",
    "print(classification_report(ytest, model.predict(X_test)))\n",
    "print(confusion_matrix(ytest, model.predict(X_test)))\n"
   ]
  },
  {
   "cell_type": "code",
   "execution_count": null,
   "metadata": {},
   "outputs": [],
   "source": [
    "from sklearn.metrics import accuracy_score"
   ]
  },
  {
   "cell_type": "code",
   "execution_count": null,
   "metadata": {},
   "outputs": [],
   "source": [
    "threshold = 0.1\n",
    "\n",
    "predicted_proba = model.predict_proba(X_test)\n",
    "predicted = (predicted_proba [:,1] >= threshold).astype('int')\n",
    "\n",
    "accuracy = accuracy_score(y_test, predicted)\n",
    "accuracy\n",
    "\n",
    "print(classification_report(ytest, predicted))\n",
    "print(confusion_matrix(ytest, predicted))"
   ]
  },
  {
   "cell_type": "code",
   "execution_count": null,
   "metadata": {},
   "outputs": [],
   "source": [
    "threshold = 0.4\n",
    "\n",
    "predicted = model.predict_proba(X_test)\n",
    "predicted [:,0] = (predicted [:,0] < threshold).astype('int')\n",
    "predicted [:,1] = (predicted [:,1] >= threshold).astype('int')\n",
    "\n",
    "\n",
    "accuracy = accuracy_score(y_test, predicted)\n",
    "print(round(accuracy,4,)*100, \"%\")"
   ]
  },
  {
   "cell_type": "code",
   "execution_count": null,
   "metadata": {},
   "outputs": [],
   "source": []
  },
  {
   "cell_type": "code",
   "execution_count": null,
   "metadata": {},
   "outputs": [],
   "source": [
    "#15\n",
    "  precision    recall  f1-score   support\n",
    "\n",
    "           0       0.93      0.98      0.95     11123\n",
    "           1       0.67      0.32      0.44      1267\n",
    "\n",
    "    accuracy                           0.91     12390\n",
    "   macro avg       0.80      0.65      0.69     12390\n",
    "weighted avg       0.90      0.91      0.90     12390\n",
    "\n",
    "[[10923   200]\n",
    " [  859   408]]\n",
    "\n",
    "#4\n",
    "   precision    recall  f1-score   support\n",
    "\n",
    "           0       0.91      0.99      0.95     11123\n",
    "           1       0.54      0.13      0.20      1267\n",
    "\n",
    "    accuracy                           0.90     12390\n",
    "   macro avg       0.72      0.56      0.58     12390\n",
    "weighted avg       0.87      0.90      0.87     12390\n",
    "\n",
    "[[10986   137]\n",
    " [ 1107   160]]\n",
    "#5\n",
    " precision    recall  f1-score   support\n",
    "\n",
    "           0       0.93      0.97      0.95     11123\n",
    "           1       0.60      0.40      0.48      1267\n",
    "\n",
    "    accuracy                           0.91     12390\n",
    "   macro avg       0.77      0.69      0.72     12390\n",
    "weighted avg       0.90      0.91      0.90     12390\n",
    "\n",
    "[[10780   343]\n",
    " [  755   512]]\n",
    "#6\n",
    " precision    recall  f1-score   support\n",
    "\n",
    "           0       0.91      0.98      0.94     11123\n",
    "           1       0.47      0.15      0.23      1267\n",
    "\n",
    "    accuracy                           0.90     12390\n",
    "   macro avg       0.69      0.56      0.59     12390\n",
    "weighted avg       0.87      0.90      0.87     12390\n"
   ]
  },
  {
   "cell_type": "code",
   "execution_count": null,
   "metadata": {},
   "outputs": [],
   "source": [
    "y_pred=model.predict(X_test)"
   ]
  },
  {
   "cell_type": "code",
   "execution_count": null,
   "metadata": {},
   "outputs": [],
   "source": [
    "y_pred"
   ]
  },
  {
   "cell_type": "code",
   "execution_count": null,
   "metadata": {},
   "outputs": [],
   "source": [
    "y_test"
   ]
  },
  {
   "cell_type": "code",
   "execution_count": null,
   "metadata": {},
   "outputs": [],
   "source": [
    "model['chi']"
   ]
  },
  {
   "cell_type": "code",
   "execution_count": null,
   "metadata": {},
   "outputs": [],
   "source": [
    "scores = pd.DataFrame(-np.log10(model['chi'].pvalues_))"
   ]
  },
  {
   "cell_type": "code",
   "execution_count": null,
   "metadata": {},
   "outputs": [],
   "source": [
    "predictors=pd.DataFrame(X_train.columns)"
   ]
  },
  {
   "cell_type": "code",
   "execution_count": null,
   "metadata": {},
   "outputs": [],
   "source": [
    "##change didn't renew to null -- Did not renew ex contacrt 3777541929\n",
    "## doesn't make sence to have not renewal  as a valid entry for past renewal"
   ]
  },
  {
   "cell_type": "code",
   "execution_count": null,
   "metadata": {},
   "outputs": [],
   "source": [
    "#Sub-Batch_Type_WINBACK=86.72553029, last_renewal_Did not renew=108.92708617"
   ]
  },
  {
   "cell_type": "code",
   "execution_count": null,
   "metadata": {},
   "outputs": [],
   "source": [
    "col_res=pd.concat([predictors,scores], axis = 1)"
   ]
  },
  {
   "cell_type": "code",
   "execution_count": null,
   "metadata": {},
   "outputs": [],
   "source": [
    "col_res.columns=['Variable','Score']"
   ]
  },
  {
   "cell_type": "code",
   "execution_count": null,
   "metadata": {},
   "outputs": [],
   "source": [
    "col_res.sort_values('Score', inplace=True, ascending=False)"
   ]
  },
  {
   "cell_type": "code",
   "execution_count": null,
   "metadata": {},
   "outputs": [],
   "source": [
    "col_res.head(20)"
   ]
  },
  {
   "cell_type": "code",
   "execution_count": null,
   "metadata": {},
   "outputs": [],
   "source": [
    "plt.figure(figsize=(20,10))\n",
    "plt.bar(range(len(predictors)), scores)\n",
    "plt.xticks(range(len(predictors)), predictors, rotation='vertical')\n",
    "plt.show()"
   ]
  },
  {
   "cell_type": "code",
   "execution_count": null,
   "metadata": {},
   "outputs": [],
   "source": [
    "model['chi'].shape()"
   ]
  },
  {
   "cell_type": "code",
   "execution_count": null,
   "metadata": {},
   "outputs": [],
   "source": [
    "model['chi'].pvalues_"
   ]
  },
  {
   "cell_type": "code",
   "execution_count": null,
   "metadata": {},
   "outputs": [],
   "source": [
    "model['chi'].scores_"
   ]
  },
  {
   "cell_type": "code",
   "execution_count": null,
   "metadata": {},
   "outputs": [],
   "source": [
    "model['clf'].feature_importances_"
   ]
  },
  {
   "cell_type": "code",
   "execution_count": null,
   "metadata": {},
   "outputs": [],
   "source": [
    "list(zip(train[features], model['clf'].feature_importances_))"
   ]
  },
  {
   "cell_type": "code",
   "execution_count": null,
   "metadata": {},
   "outputs": [],
   "source": [
    "\n",
    "rf = RandomForestClassifier()\n",
    "perm = PermutationImportance(model['clf'], cv = None, refit = False, n_iter = 50).fit(X_train, y_train)\n",
    "perm_imp_eli5 = imp_df(X_train.columns, perm.feature_importances_)"
   ]
  }
 ],
 "metadata": {
  "kernelspec": {
   "display_name": "Python 3",
   "language": "python",
   "name": "python3"
  },
  "language_info": {
   "codemirror_mode": {
    "name": "ipython",
    "version": 3
   },
   "file_extension": ".py",
   "mimetype": "text/x-python",
   "name": "python",
   "nbconvert_exporter": "python",
   "pygments_lexer": "ipython3",
   "version": "3.7.4"
  }
 },
 "nbformat": 4,
 "nbformat_minor": 2
}
