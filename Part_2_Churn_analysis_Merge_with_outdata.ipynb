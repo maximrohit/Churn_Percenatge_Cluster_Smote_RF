{
 "cells": [
  {
   "cell_type": "code",
   "execution_count": null,
   "metadata": {},
   "outputs": [],
   "source": [
    "import random\n",
    "import nltk\n",
    "import pandas as pd\n",
    "from sklearn.feature_extraction.text import TfidfVectorizer\n",
    "from sklearn.pipeline import Pipeline\n",
    "from sklearn.metrics import classification_report, confusion_matrix\n",
    "from sklearn.model_selection import train_test_split\n",
    "from sklearn.feature_selection import SelectKBest, chi2\n",
    "from sklearn.ensemble import RandomForestClassifier\n",
    "import pickle\n",
    "import numpy as np"
   ]
  },
  {
   "cell_type": "code",
   "execution_count": null,
   "metadata": {},
   "outputs": [],
   "source": [
    "pro_ser_fin=pd.read_csv('E:/Documents/Yagna/prep_data/pro_ser_fin_processed.csv')"
   ]
  },
  {
   "cell_type": "code",
   "execution_count": null,
   "metadata": {},
   "outputs": [],
   "source": [
    "Base_data=pd.read_csv('E:/Documents/Yagna/12th/outdata.csv')"
   ]
  },
  {
   "cell_type": "code",
   "execution_count": null,
   "metadata": {},
   "outputs": [],
   "source": [
    "Base_data.columns"
   ]
  },
  {
   "cell_type": "code",
   "execution_count": null,
   "metadata": {},
   "outputs": [],
   "source": [
    "Base_data.head()"
   ]
  },
  {
   "cell_type": "code",
   "execution_count": null,
   "metadata": {},
   "outputs": [],
   "source": [
    "Base_data.loc[Base_data.Ea_Number.astype(str)=='13978022826']"
   ]
  },
  {
   "cell_type": "code",
   "execution_count": null,
   "metadata": {},
   "outputs": [],
   "source": [
    "Transaction_Date ## renewal payment date -- \n",
    "Expiring_Contract_End_Date #2009-05-05 se these column, using thsi would be better as copared to renewal contract date"
   ]
  },
  {
   "cell_type": "code",
   "execution_count": null,
   "metadata": {},
   "outputs": [],
   "source": [
    "print(Base_data.X__Original_Opty_Val_Annualized.unique())\n",
    "print(Base_data.X__Original_Opty_Val_Term.unique())\n",
    "print(Base_data.Local_Opportunity_Currency_Code.unique())\n",
    "print(Base_data['Sub-Batch_Type'].unique())\n",
    "print(Base_data['First_Renewal'].unique())\n",
    "print(Base_data.CON_Dollar_value.unique())\n",
    "print(Base_data.Sales_Stage.unique())\n",
    "                                      \n",
    "\n",
    "\n"
   ]
  },
  {
   "cell_type": "code",
   "execution_count": null,
   "metadata": {},
   "outputs": [],
   "source": [
    "Base_data.Renewal_Contract_Start_Date.unique()"
   ]
  },
  {
   "cell_type": "code",
   "execution_count": null,
   "metadata": {},
   "outputs": [],
   "source": [
    "Base_data[['RenewalType','Diff_inDays','Transaction_Date','Expiring_Contract_End_Date','Expiring_Month','Renewal_Contract_Duration','Renewal_Contract_Start_Date','Renewal_Contract_End_Date']]"
   ]
  },
  {
   "cell_type": "code",
   "execution_count": null,
   "metadata": {},
   "outputs": [],
   "source": [
    "Expiring_Contract_End_Date"
   ]
  },
  {
   "cell_type": "code",
   "execution_count": null,
   "metadata": {},
   "outputs": [],
   "source": [
    "Base_data_ltd=Base_data[[ 'Transaction_Date','Existing_Contract_Number',\n",
    "       'Sales_Stage', 'Expiring_Contract_End_Date',\n",
    "       'Expiring_Month', 'Renewal_Contract_Start_Date',\n",
    "       'Renewal_Contract_End_Date', 'Renewal_Contract_Duration', 'EA_Segment',\n",
    "       'Country_Name', 'State',    'X__Original_Opty_Val_Annualized',\n",
    "       'Local_Opportunity_Currency_Code', 'PFST_Geo', 'PFST_Region',\n",
    "        'Batch_Type', 'Sub-Batch_Type',\n",
    "       'First_Renewal', 'CON_count(Existing_Contract_Number)',\n",
    "\t   'Diff_inDays', 'RenewalType',\n",
    "       'CUS_On_Time_percent',\n",
    "       'CUS_Early_percent', 'CUS_Delayed_percent', 'CON_On_Time_percent',\n",
    "       'CON_Early_percent', 'CON_Delayed_percent', 'mark_1_if_renewal',\n",
    "       'CON_number_renewal', 'CUS_number_renewal',\n",
    "       'CON_Renewal_Contract_Duration_0.05_percentile',\n",
    "       'CON_Renewal_Contract_Duration_0.1_percentile',\n",
    "       'CON_Renewal_Contract_Duration_0.25_percentile',\n",
    "       'CON_Renewal_Contract_Duration_0.5_percentile',\n",
    "       'CON_Renewal_Contract_Duration_0.75_percentile',\n",
    "       'CON_Renewal_Contract_Duration_0.9_percentile',\n",
    "       'CON_Renewal_Contract_Duration_0.95_percentile',\n",
    "       'CON_Renewal_Contract_Duration_0.99_percentile',\n",
    "       'CON_Diff_inDays_0.05_percentile', 'CON_Diff_inDays_0.1_percentile',\n",
    "       'CON_Diff_inDays_0.25_percentile', 'CON_Diff_inDays_0.5_percentile',\n",
    "       'CON_Diff_inDays_0.75_percentile', 'CON_Diff_inDays_0.9_percentile',\n",
    "       'CON_Diff_inDays_0.95_percentile', 'CON_Diff_inDays_0.99_percentile',\n",
    "       'CUS_Renewal_Contract_Duration_0.05_percentile',\n",
    "       'CUS_Renewal_Contract_Duration_0.1_percentile',\n",
    "       'CUS_Renewal_Contract_Duration_0.25_percentile',\n",
    "       'CUS_Renewal_Contract_Duration_0.5_percentile',\n",
    "       'CUS_Renewal_Contract_Duration_0.75_percentile',\n",
    "       'CUS_Renewal_Contract_Duration_0.9_percentile',\n",
    "       'CUS_Renewal_Contract_Duration_0.95_percentile',\n",
    "       'CUS_Renewal_Contract_Duration_0.99_percentile',\n",
    "       'CUS_Diff_inDays_0.05_percentile', 'CUS_Diff_inDays_0.1_percentile',\n",
    "       'CUS_Diff_inDays_0.25_percentile', 'CUS_Diff_inDays_0.5_percentile',\n",
    "       'CUS_Diff_inDays_0.75_percentile', 'CUS_Diff_inDays_0.9_percentile',\n",
    "       'CUS_Diff_inDays_0.95_percentile', 'CUS_Diff_inDays_0.99_percentile',\n",
    "       'is_current_renewal_First_Renewal_', 'last_renewal']]"
   ]
  },
  {
   "cell_type": "code",
   "execution_count": null,
   "metadata": {},
   "outputs": [],
   "source": [
    "Base_data_ltd.columns=['Transaction_Date','Existing_Contract_Number', 'Sales_Stage', 'Expiring_Contract_End_Date',\n",
    "       'Expiring_Month', 'Renewal_Contract_Start_Date',\n",
    "       'Renewal_Contract_End_Date', 'Renewal_Contract_Duration', 'EA_Segment',\n",
    "       'Country_Name', 'State', 'X__Original_Opty_Val_Annualized',\n",
    "       'Local_Opportunity_Currency_Code', 'PFST_Geo', 'PFST_Region',\n",
    "       'Batch_Type', 'Sub-Batch_Type', 'First_Renewal',\n",
    "       'CON_Existing_Contract', 'Diff_inDays', 'RenewalType',\n",
    "       'CUS_On_Time_percent', 'CUS_Early_percent', 'CUS_Delayed_percent',\n",
    "       'CON_On_Time_percent', 'CON_Early_percent', 'CON_Delayed_percent',\n",
    "       'mark_1_if_renewal', 'CON_number_renewal', 'CUS_number_renewal',\n",
    "       'CON_Renewal_Contract_Duration_0.05_percentile',\n",
    "       'CON_Renewal_Contract_Duration_0.1_percentile',\n",
    "       'CON_Renewal_Contract_Duration_0.25_percentile',\n",
    "       'CON_Renewal_Contract_Duration_0.5_percentile',\n",
    "       'CON_Renewal_Contract_Duration_0.75_percentile',\n",
    "       'CON_Renewal_Contract_Duration_0.9_percentile',\n",
    "       'CON_Renewal_Contract_Duration_0.95_percentile',\n",
    "       'CON_Renewal_Contract_Duration_0.99_percentile',\n",
    "       'CON_Diff_inDays_0.05_percentile', 'CON_Diff_inDays_0.1_percentile',\n",
    "       'CON_Diff_inDays_0.25_percentile', 'CON_Diff_inDays_0.5_percentile',\n",
    "       'CON_Diff_inDays_0.75_percentile', 'CON_Diff_inDays_0.9_percentile',\n",
    "       'CON_Diff_inDays_0.95_percentile', 'CON_Diff_inDays_0.99_percentile',\n",
    "       'CUS_Renewal_Contract_Duration_0.05_percentile',\n",
    "       'CUS_Renewal_Contract_Duration_0.1_percentile',\n",
    "       'CUS_Renewal_Contract_Duration_0.25_percentile',\n",
    "       'CUS_Renewal_Contract_Duration_0.5_percentile',\n",
    "       'CUS_Renewal_Contract_Duration_0.75_percentile',\n",
    "       'CUS_Renewal_Contract_Duration_0.9_percentile',\n",
    "       'CUS_Renewal_Contract_Duration_0.95_percentile',\n",
    "       'CUS_Renewal_Contract_Duration_0.99_percentile',\n",
    "       'CUS_Diff_inDays_0.05_percentile', 'CUS_Diff_inDays_0.1_percentile',\n",
    "       'CUS_Diff_inDays_0.25_percentile', 'CUS_Diff_inDays_0.5_percentile',\n",
    "       'CUS_Diff_inDays_0.75_percentile', 'CUS_Diff_inDays_0.9_percentile',\n",
    "       'CUS_Diff_inDays_0.95_percentile', 'CUS_Diff_inDays_0.99_percentile',\n",
    "       'is_current_renewal_First_Renewal_', 'last_renewal']"
   ]
  },
  {
   "cell_type": "code",
   "execution_count": null,
   "metadata": {},
   "outputs": [],
   "source": [
    "Base_data_ltd['Renewal_Contract_Start_Date']=pd.to_datetime(Base_data_ltd.Renewal_Contract_Start_Date, format='%Y-%m-%d', errors='ignore')"
   ]
  },
  {
   "cell_type": "code",
   "execution_count": null,
   "metadata": {},
   "outputs": [],
   "source": [
    "pro_ser_fin['OrderDate_1']=pd.to_datetime(pro_ser_fin.OrderDate, format='%m/%d/%Y', errors='ignore')"
   ]
  },
  {
   "cell_type": "code",
   "execution_count": null,
   "metadata": {},
   "outputs": [],
   "source": [
    "pro_ser_fin.head()"
   ]
  },
  {
   "cell_type": "code",
   "execution_count": null,
   "metadata": {},
   "outputs": [],
   "source": [
    "Base_data_merge=Base_data_ltd.merge(pro_ser_fin, how='left',left_on=['Existing_Contract_Number', 'Renewal_Contract_Start_Date'], right_on=['ContractNumber', 'OrderDate'])"
   ]
  },
  {
   "cell_type": "code",
   "execution_count": null,
   "metadata": {},
   "outputs": [],
   "source": []
  },
  {
   "cell_type": "code",
   "execution_count": null,
   "metadata": {},
   "outputs": [],
   "source": [
    "Base_data_merge.loc[Base_data_merge.Total_Price.isnull()==0]"
   ]
  },
  {
   "cell_type": "code",
   "execution_count": null,
   "metadata": {},
   "outputs": [],
   "source": [
    "71765  null, 97 match ;; 78 match "
   ]
  },
  {
   "cell_type": "code",
   "execution_count": null,
   "metadata": {},
   "outputs": [],
   "source": [
    "pro_ser_fin_ContractNumber=pro_ser_fin.groupby('ContractNumber').count()[['OrderDate']]"
   ]
  },
  {
   "cell_type": "code",
   "execution_count": null,
   "metadata": {},
   "outputs": [],
   "source": [
    "pro_ser_fin_ContractNumber.loc[pro_ser_fin_ContractNumber.OrderDate>1].count()#6429"
   ]
  },
  {
   "cell_type": "code",
   "execution_count": null,
   "metadata": {},
   "outputs": [],
   "source": [
    "pro_ser_fin_ContractNumber.loc[pro_ser_fin_ContractNumber.OrderDate==1].count()#66967"
   ]
  },
  {
   "cell_type": "code",
   "execution_count": null,
   "metadata": {},
   "outputs": [],
   "source": [
    "pro_ser_fin_ContractNumber=pro_ser_fin_ContractNumber.loc[pro_ser_fin_ContractNumber.OrderDate==1]"
   ]
  },
  {
   "cell_type": "code",
   "execution_count": null,
   "metadata": {},
   "outputs": [],
   "source": [
    "pro_ser_fin_ContractNumber.reset_index(drop=False)"
   ]
  },
  {
   "cell_type": "code",
   "execution_count": null,
   "metadata": {},
   "outputs": [],
   "source": [
    "pro_ser_fin_fil=pro_ser_fin.merge(pro_ser_fin_ContractNumber, how='inner',on=['ContractNumber'])"
   ]
  },
  {
   "cell_type": "code",
   "execution_count": null,
   "metadata": {},
   "outputs": [],
   "source": [
    "pro_ser_fin_fil"
   ]
  },
  {
   "cell_type": "code",
   "execution_count": null,
   "metadata": {},
   "outputs": [],
   "source": [
    "pro_ser_fin.columns"
   ]
  },
  {
   "cell_type": "code",
   "execution_count": null,
   "metadata": {},
   "outputs": [],
   "source": [
    "Base_data_merge=Base_data_ltd.merge(pro_ser_fin_fil, how='left',left_on=['Existing_Contract_Number'], right_on=['ContractNumber'])"
   ]
  },
  {
   "cell_type": "code",
   "execution_count": null,
   "metadata": {},
   "outputs": [],
   "source": [
    "Base_data_ltd.shape"
   ]
  },
  {
   "cell_type": "code",
   "execution_count": null,
   "metadata": {},
   "outputs": [],
   "source": [
    "Base_data_merge"
   ]
  },
  {
   "cell_type": "code",
   "execution_count": null,
   "metadata": {},
   "outputs": [],
   "source": [
    "Base_data_merge.loc[Base_data_merge.Total_Price.isnull()==0]"
   ]
  },
  {
   "cell_type": "code",
   "execution_count": null,
   "metadata": {},
   "outputs": [],
   "source": [
    "Base_data_merge.loc[Base_data_merge.Total_Price.isnull()==1]"
   ]
  },
  {
   "cell_type": "code",
   "execution_count": null,
   "metadata": {},
   "outputs": [],
   "source": [
    "print(25087*100/71862)\n",
    "print(46775*100/71862)"
   ]
  },
  {
   "cell_type": "code",
   "execution_count": null,
   "metadata": {},
   "outputs": [],
   "source": [
    "Base_data_merge"
   ]
  },
  {
   "cell_type": "code",
   "execution_count": null,
   "metadata": {},
   "outputs": [],
   "source": [
    "Base_data_merge.to_csv(r'E:/Documents/Yagna/prep_data/Base_data_merge.csv',index=False)"
   ]
  },
  {
   "cell_type": "code",
   "execution_count": null,
   "metadata": {},
   "outputs": [],
   "source": []
  }
 ],
 "metadata": {
  "kernelspec": {
   "display_name": "Python 3",
   "language": "python",
   "name": "python3"
  },
  "language_info": {
   "codemirror_mode": {
    "name": "ipython",
    "version": 3
   },
   "file_extension": ".py",
   "mimetype": "text/x-python",
   "name": "python",
   "nbconvert_exporter": "python",
   "pygments_lexer": "ipython3",
   "version": "3.7.4"
  }
 },
 "nbformat": 4,
 "nbformat_minor": 2
}
