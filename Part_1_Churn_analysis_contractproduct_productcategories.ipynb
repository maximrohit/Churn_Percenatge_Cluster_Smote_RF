{
 "cells": [
  {
   "cell_type": "code",
   "execution_count": null,
   "metadata": {},
   "outputs": [],
   "source": [
    "try:\n",
    "    import getpass\n",
    "    import snowflake.connector as sf  \n",
    "    from sqlalchemy import create_engine\n",
    "    from snowflake.sqlalchemy import URL\n",
    "    import pandas as pd\n",
    "    import os,sys,json,gc\n",
    "    import datetime,math\n",
    "    from datetime import timedelta\n",
    "    import statsmodels.api as sm\n",
    "    from datetime import datetime\n",
    "    import os\n",
    "\n",
    "    import pickle,warnings\n",
    "    import numpy as np\n",
    "\n",
    "    warnings.filterwarnings(\"ignore\")\n",
    "except Exception as e:\n",
    "    print(\"Error in importing Module :\",e)"
   ]
  },
  {
   "cell_type": "code",
   "execution_count": null,
   "metadata": {},
   "outputs": [],
   "source": [
    "Base_contract_product=pd.read_csv('E:/Documents/Yagna/12th/contractproduct.csv')"
   ]
  },
  {
   "cell_type": "code",
   "execution_count": null,
   "metadata": {},
   "outputs": [],
   "source": [
    "Base_product_cat=pd.read_csv('E:/Documents/Yagna/12th/productcategories.csv')"
   ]
  },
  {
   "cell_type": "code",
   "execution_count": null,
   "metadata": {},
   "outputs": [],
   "source": [
    "Base_contract_product.shape"
   ]
  },
  {
   "cell_type": "code",
   "execution_count": null,
   "metadata": {},
   "outputs": [],
   "source": [
    "Base_contract_product = Base_contract_product.drop_duplicates( keep='last')"
   ]
  },
  {
   "cell_type": "code",
   "execution_count": null,
   "metadata": {},
   "outputs": [],
   "source": [
    "Base_contract_product.loc[Base_contract_product.ContractNumber.astype(str)=='3690006027']"
   ]
  },
  {
   "cell_type": "code",
   "execution_count": null,
   "metadata": {},
   "outputs": [],
   "source": [
    "Base_contract_product['ContractNumber'].unique().shape##81392 unique contracts"
   ]
  },
  {
   "cell_type": "code",
   "execution_count": null,
   "metadata": {},
   "outputs": [],
   "source": [
    "Base_product_cat.shape"
   ]
  },
  {
   "cell_type": "code",
   "execution_count": null,
   "metadata": {},
   "outputs": [],
   "source": [
    "Base_product_cat=Base_product_cat.drop_duplicates( keep='last')"
   ]
  },
  {
   "cell_type": "code",
   "execution_count": null,
   "metadata": {},
   "outputs": [],
   "source": [
    "Base_product_cat=Base_product_cat[['Platform Group', 'Product Platform', 'Product Family', 'Part Number','List Price']]"
   ]
  },
  {
   "cell_type": "code",
   "execution_count": null,
   "metadata": {},
   "outputs": [],
   "source": [
    "Base_product_cat_grp=Base_product_cat.groupby(by=['Part Number'])"
   ]
  },
  {
   "cell_type": "code",
   "execution_count": null,
   "metadata": {},
   "outputs": [],
   "source": [
    "Base_product_cat_grp.count()['List Price'].max()## no duplicates "
   ]
  },
  {
   "cell_type": "code",
   "execution_count": null,
   "metadata": {},
   "outputs": [],
   "source": [
    "Base_contract_product['SnSSKU']=Base_contract_product['SnSSKU'].str.upper()\n",
    "Base_contract_product['ProductSKU']=Base_contract_product['ProductSKU'].str.upper()\n",
    "Base_product_cat['Part Number']=Base_product_cat['Part Number'].str.upper()"
   ]
  },
  {
   "cell_type": "code",
   "execution_count": null,
   "metadata": {},
   "outputs": [],
   "source": [
    "print(Base_contract_product.columns)\n",
    "(Base_product_cat.columns)"
   ]
  },
  {
   "cell_type": "code",
   "execution_count": null,
   "metadata": {},
   "outputs": [],
   "source": [
    "Base_contract_prod_merge=Base_contract_product.merge(Base_product_cat,how='left',left_on='ProductSKU', right_on='Part Number',suffixes=('','_PRODUCT'), copy=True)"
   ]
  },
  {
   "cell_type": "code",
   "execution_count": null,
   "metadata": {},
   "outputs": [],
   "source": [
    "Base_contract_prod_merge=Base_contract_prod_merge.merge(Base_product_cat,how='left',left_on='SnSSKU', right_on='Part Number',suffixes=('_PRODUCT','_SERVICES'), copy=True)"
   ]
  },
  {
   "cell_type": "code",
   "execution_count": null,
   "metadata": {},
   "outputs": [],
   "source": [
    "Base_contract_prod_merge.head()"
   ]
  },
  {
   "cell_type": "code",
   "execution_count": null,
   "metadata": {},
   "outputs": [],
   "source": [
    "Base_mismatch=Base_contract_prod_merge.loc[(Base_contract_prod_merge['Part Number_PRODUCT'].isnull()==1) & (Base_contract_prod_merge['Part Number_SERVICES'].isnull()==1) ]"
   ]
  },
  {
   "cell_type": "code",
   "execution_count": null,
   "metadata": {},
   "outputs": [],
   "source": [
    "print(Base_contract_prod_merge.shape)\n",
    "print(Base_mismatch.shape)\n",
    "print(Base_mismatch.ContractNumber.unique().shape)"
   ]
  },
  {
   "cell_type": "code",
   "execution_count": null,
   "metadata": {},
   "outputs": [],
   "source": [
    "19264*100/81392"
   ]
  },
  {
   "cell_type": "markdown",
   "metadata": {},
   "source": [
    "### 23 % of our contract doesn't have have matching product or services"
   ]
  },
  {
   "cell_type": "code",
   "execution_count": null,
   "metadata": {},
   "outputs": [],
   "source": [
    "Base_contract_prod_merge.loc[Base_contract_prod_merge['Part Number_PRODUCT'].isnull()==1,'ContractNumber'].unique().shape[0]*100/81392"
   ]
  },
  {
   "cell_type": "markdown",
   "metadata": {},
   "source": [
    "### 68.41% of our contract doesn't have a matching product "
   ]
  },
  {
   "cell_type": "code",
   "execution_count": null,
   "metadata": {},
   "outputs": [],
   "source": [
    "Base_contract_prod_merge.loc[Base_contract_prod_merge['Part Number_SERVICES'].isnull()==1,'ContractNumber'].unique().shape[0]*100/81392"
   ]
  },
  {
   "cell_type": "markdown",
   "metadata": {},
   "source": [
    "### 31.6 % of our data don't have matching services"
   ]
  },
  {
   "cell_type": "code",
   "execution_count": null,
   "metadata": {},
   "outputs": [],
   "source": [
    "Base_contract_prod_merge.columns"
   ]
  },
  {
   "cell_type": "code",
   "execution_count": null,
   "metadata": {},
   "outputs": [],
   "source": [
    "Base_contract_prod_merge.info()"
   ]
  },
  {
   "cell_type": "code",
   "execution_count": null,
   "metadata": {},
   "outputs": [],
   "source": [
    "Base_contract_prod_merge['List Price_PRODUCT']=Base_contract_prod_merge['List Price_PRODUCT'].astype(float)\n",
    "Base_contract_prod_merge['List Price_SERVICES']=Base_contract_prod_merge['List Price_SERVICES'].astype(float)"
   ]
  },
  {
   "cell_type": "code",
   "execution_count": null,
   "metadata": {},
   "outputs": [],
   "source": [
    "Base_contract_prod_merge['services_price']=(Base_contract_prod_merge['List Price_SERVICES'].fillna(0))"
   ]
  },
  {
   "cell_type": "code",
   "execution_count": null,
   "metadata": {},
   "outputs": [],
   "source": [
    "Base_contract_prod_merge['Product_price']=Base_contract_prod_merge['Quantity'].fillna(0)*Base_contract_prod_merge['List Price_PRODUCT'].fillna(0)"
   ]
  },
  {
   "cell_type": "code",
   "execution_count": null,
   "metadata": {},
   "outputs": [],
   "source": [
    "Base_contract_prod_merge['Total_Price']=Base_contract_prod_merge['services_price'].fillna(0)+Base_contract_prod_merge['Product_price'].fillna(0)"
   ]
  },
  {
   "cell_type": "code",
   "execution_count": null,
   "metadata": {},
   "outputs": [],
   "source": [
    "Base_contract_prod_merge=Base_contract_prod_merge.sort_values(by=['ContractNumber'])"
   ]
  },
  {
   "cell_type": "code",
   "execution_count": null,
   "metadata": {},
   "outputs": [],
   "source": [
    "Base_contract_prod_merge"
   ]
  },
  {
   "cell_type": "code",
   "execution_count": null,
   "metadata": {},
   "outputs": [],
   "source": [
    "Base_contract_prod_merge.ContractNumber=Base_contract_prod_merge.ContractNumber.astype(str)"
   ]
  },
  {
   "cell_type": "code",
   "execution_count": null,
   "metadata": {},
   "outputs": [],
   "source": [
    "Base_contract_prod_merge"
   ]
  },
  {
   "cell_type": "code",
   "execution_count": null,
   "metadata": {},
   "outputs": [],
   "source": [
    "Base_contract_prod_merge.loc[Base_contract_prod_merge.ContractNumber=='3690006027']"
   ]
  },
  {
   "cell_type": "code",
   "execution_count": null,
   "metadata": {},
   "outputs": [],
   "source": [
    "Base_grp=Base_contract_prod_merge.groupby(['ContractNumber','OrderDate'])"
   ]
  },
  {
   "cell_type": "code",
   "execution_count": null,
   "metadata": {},
   "outputs": [],
   "source": [
    "Base_grp_num=Base_grp.sum()"
   ]
  },
  {
   "cell_type": "code",
   "execution_count": null,
   "metadata": {},
   "outputs": [],
   "source": [
    "Base_grp_num.reset_index(drop=False, inplace=True)"
   ]
  },
  {
   "cell_type": "code",
   "execution_count": null,
   "metadata": {},
   "outputs": [],
   "source": [
    "Base_grp_num"
   ]
  },
  {
   "cell_type": "code",
   "execution_count": null,
   "metadata": {},
   "outputs": [],
   "source": [
    "Base_grp_num=Base_grp_num[['ContractNumber','OrderDate','Quantity','services_price','Product_price','Total_Price']]"
   ]
  },
  {
   "cell_type": "code",
   "execution_count": null,
   "metadata": {},
   "outputs": [],
   "source": [
    "Base_grp_ser=Base_grp['Product Platform_SERVICES'].unique()"
   ]
  },
  {
   "cell_type": "code",
   "execution_count": null,
   "metadata": {},
   "outputs": [],
   "source": [
    "Base_grp_pro=Base_grp['Product Platform_PRODUCT'].unique()"
   ]
  },
  {
   "cell_type": "code",
   "execution_count": null,
   "metadata": {},
   "outputs": [],
   "source": [
    "Base_grp_ser"
   ]
  },
  {
   "cell_type": "code",
   "execution_count": null,
   "metadata": {},
   "outputs": [],
   "source": [
    "Base_grp_ser=Base_grp_ser.reset_index(drop=False)\n",
    "Base_grp_pro=Base_grp_pro.reset_index(drop=False)"
   ]
  },
  {
   "cell_type": "code",
   "execution_count": null,
   "metadata": {},
   "outputs": [],
   "source": [
    "#merge unique, order _to char trater"
   ]
  },
  {
   "cell_type": "code",
   "execution_count": null,
   "metadata": {},
   "outputs": [],
   "source": [
    "Base_grp_ser_pro=Base_grp_ser.merge(Base_grp_pro,how='outer',on=['ContractNumber','OrderDate'])"
   ]
  },
  {
   "cell_type": "code",
   "execution_count": null,
   "metadata": {},
   "outputs": [],
   "source": [
    "Base_grp_ser_pro.shape[0]"
   ]
  },
  {
   "cell_type": "code",
   "execution_count": null,
   "metadata": {},
   "outputs": [],
   "source": [
    "np.concatenate((Base_grp_ser_pro.loc[5,'Product Platform_SERVICES'], Base_grp_ser_pro.loc[5,'Product Platform_PRODUCT']))"
   ]
  },
  {
   "cell_type": "code",
   "execution_count": null,
   "metadata": {},
   "outputs": [],
   "source": [
    "Base_grp_ser_pro['Combined_pro_ser']=[ np.concatenate((Base_grp_ser_pro.loc[i,'Product Platform_SERVICES'], Base_grp_ser_pro.loc[i,'Product Platform_PRODUCT'])) for i in range(0,Base_grp_ser_pro.shape[0])]"
   ]
  },
  {
   "cell_type": "code",
   "execution_count": null,
   "metadata": {},
   "outputs": [],
   "source": [
    "#removing  nan\n",
    "Base_grp_ser_pro['Combined_pro_ser_fil']=[ list(filter(lambda v: v==v, x)) for x in Base_grp_ser_pro['Combined_pro_ser'] ]"
   ]
  },
  {
   "cell_type": "code",
   "execution_count": null,
   "metadata": {},
   "outputs": [],
   "source": [
    "##ordering\n",
    "[ x.sort() for x in Base_grp_ser_pro['Combined_pro_ser_fil'] ]"
   ]
  },
  {
   "cell_type": "code",
   "execution_count": null,
   "metadata": {},
   "outputs": [],
   "source": [
    "#deduplicate\n",
    "Base_grp_ser_pro['Combined_pro_ser_fil']=[ list(set(x))  for x in Base_grp_ser_pro['Combined_pro_ser_fil'] ]"
   ]
  },
  {
   "cell_type": "code",
   "execution_count": null,
   "metadata": {},
   "outputs": [],
   "source": [
    "Base_grp_ser_pro"
   ]
  },
  {
   "cell_type": "code",
   "execution_count": null,
   "metadata": {},
   "outputs": [],
   "source": [
    "#get count\n",
    "Base_grp_ser_pro['Count_pro_ser']=[ len(x) for x in Base_grp_ser_pro['Combined_pro_ser_fil'] ]"
   ]
  },
  {
   "cell_type": "code",
   "execution_count": null,
   "metadata": {},
   "outputs": [],
   "source": [
    "t=['ENT+', 'STD', 'SERVER', 'ENT+', 'STD', 'SERVER']\n",
    "t.sort()\n",
    "t"
   ]
  },
  {
   "cell_type": "code",
   "execution_count": null,
   "metadata": {},
   "outputs": [],
   "source": [
    "Base_grp_ser_pro.loc[Base_grp_ser_pro.Count_pro_ser==3]"
   ]
  },
  {
   "cell_type": "code",
   "execution_count": null,
   "metadata": {},
   "outputs": [],
   "source": [
    "##ordering\n",
    "[ x.sort() for x in Base_grp_ser_pro['Combined_pro_ser_fil'] ]"
   ]
  },
  {
   "cell_type": "code",
   "execution_count": null,
   "metadata": {},
   "outputs": [],
   "source": [
    "#creta catogoricla valriable\n",
    "Base_grp_ser_pro['Cat_pro_ser']=[ '_'.join(x) for x in Base_grp_ser_pro['Combined_pro_ser_fil'] ]"
   ]
  },
  {
   "cell_type": "code",
   "execution_count": null,
   "metadata": {},
   "outputs": [],
   "source": [
    "Base_grp_ser_pro_sel=Base_grp_ser_pro[['ContractNumber', 'OrderDate','Count_pro_ser', 'Cat_pro_ser']]"
   ]
  },
  {
   "cell_type": "code",
   "execution_count": null,
   "metadata": {},
   "outputs": [],
   "source": [
    "pro_ser_fin=Base_grp_num.merge(Base_grp_ser_pro_sel,how='outer',on=['ContractNumber','OrderDate'])"
   ]
  },
  {
   "cell_type": "code",
   "execution_count": null,
   "metadata": {},
   "outputs": [],
   "source": [
    "pro_ser_fin.to_csv(r'E:/Documents/Yagna/prep_data/pro_ser_fin.csv',index=False)"
   ]
  },
  {
   "cell_type": "code",
   "execution_count": null,
   "metadata": {},
   "outputs": [],
   "source": [
    "group_presensce=pro_ser_fin.groupby('Cat_pro_ser').count().Count_pro_ser"
   ]
  },
  {
   "cell_type": "code",
   "execution_count": null,
   "metadata": {},
   "outputs": [],
   "source": [
    "group_presensce.head()"
   ]
  },
  {
   "cell_type": "code",
   "execution_count": null,
   "metadata": {},
   "outputs": [],
   "source": [
    "pro_ser_fin=pro_ser_fin.merge(group_presensce, how='outer',on=['Cat_pro_ser'])"
   ]
  },
  {
   "cell_type": "code",
   "execution_count": null,
   "metadata": {},
   "outputs": [],
   "source": [
    "pro_ser_fin.columns=['ContractNumber', 'OrderDate', 'Quantity', 'services_price',\n",
    "       'Product_price', 'Total_Price', 'Count_pro_ser', 'Cat_pro_ser',\n",
    "       'CountForCat_pro_ser']"
   ]
  },
  {
   "cell_type": "code",
   "execution_count": null,
   "metadata": {},
   "outputs": [],
   "source": [
    "pro_ser_fin"
   ]
  },
  {
   "cell_type": "code",
   "execution_count": null,
   "metadata": {},
   "outputs": [],
   "source": [
    "pro_ser_fin.columns"
   ]
  },
  {
   "cell_type": "code",
   "execution_count": null,
   "metadata": {},
   "outputs": [],
   "source": [
    "import seaborn as sns\n",
    "import matplotlib.pyplot as plt\n",
    "from scipy import stats"
   ]
  },
  {
   "cell_type": "code",
   "execution_count": null,
   "metadata": {},
   "outputs": [],
   "source": [
    "sns.distplot(pro_ser_fin.Quantity.loc[pro_ser_fin.Quantity.fillna(0)<100],bins=20)"
   ]
  },
  {
   "cell_type": "code",
   "execution_count": null,
   "metadata": {},
   "outputs": [],
   "source": [
    "pro_ser_fin['Quantity_log']=[math.log1p(i) for i in pro_ser_fin.Quantity]"
   ]
  },
  {
   "cell_type": "code",
   "execution_count": null,
   "metadata": {},
   "outputs": [],
   "source": [
    "sns.distplot(pro_ser_fin.Quantity_log,bins=20)"
   ]
  },
  {
   "cell_type": "code",
   "execution_count": null,
   "metadata": {},
   "outputs": [],
   "source": [
    "pro_ser_fin.columns"
   ]
  },
  {
   "cell_type": "code",
   "execution_count": null,
   "metadata": {},
   "outputs": [],
   "source": [
    "sns.distplot(pro_ser_fin.CountForCat_pro_ser,bins=20)"
   ]
  },
  {
   "cell_type": "code",
   "execution_count": null,
   "metadata": {},
   "outputs": [],
   "source": [
    "pro_ser_fin['CountForCat_pro_ser_bin']=pd.cut(pro_ser_fin.CountForCat_pro_ser, 20)"
   ]
  },
  {
   "cell_type": "code",
   "execution_count": null,
   "metadata": {},
   "outputs": [],
   "source": [
    "##Categories (20, interval[float64]): [(-13.98, 750.0] < (750.0, 1499.0] < (1499.0, 2248.0] < (2248.0, 2997.0] ... (11985.0, 12734.0] < (12734.0, 13483.0] < (13483.0, 14232.0] < (14232.0, 14981.0]]"
   ]
  },
  {
   "cell_type": "code",
   "execution_count": null,
   "metadata": {},
   "outputs": [],
   "source": [
    "pro_ser_fin"
   ]
  },
  {
   "cell_type": "code",
   "execution_count": null,
   "metadata": {},
   "outputs": [],
   "source": [
    "sns.distplot(pro_ser_fin.Count_pro_ser,bins=20)"
   ]
  },
  {
   "cell_type": "code",
   "execution_count": null,
   "metadata": {},
   "outputs": [],
   "source": [
    "max(pro_ser_fin.Count_pro_ser)"
   ]
  },
  {
   "cell_type": "code",
   "execution_count": null,
   "metadata": {},
   "outputs": [],
   "source": [
    "sns.distplot(pro_ser_fin.Total_Price,bins=20)"
   ]
  },
  {
   "cell_type": "code",
   "execution_count": null,
   "metadata": {},
   "outputs": [],
   "source": [
    "pro_ser_fin['Total_Price_log']=[math.log1p(i) for i in pro_ser_fin.Total_Price]"
   ]
  },
  {
   "cell_type": "code",
   "execution_count": null,
   "metadata": {},
   "outputs": [],
   "source": [
    "sns.distplot(pro_ser_fin.Total_Price_log,bins=20)"
   ]
  },
  {
   "cell_type": "code",
   "execution_count": null,
   "metadata": {},
   "outputs": [],
   "source": [
    "pro_ser_fin['Product_price_log']=[math.log1p(i) for i in pro_ser_fin.Product_price]"
   ]
  },
  {
   "cell_type": "code",
   "execution_count": null,
   "metadata": {},
   "outputs": [],
   "source": [
    "pro_ser_fin['services_price_log']=[math.log1p(i) for i in pro_ser_fin.services_price]"
   ]
  },
  {
   "cell_type": "code",
   "execution_count": null,
   "metadata": {},
   "outputs": [],
   "source": [
    "sns.distplot(pro_ser_fin.Product_price_log,bins=20)"
   ]
  },
  {
   "cell_type": "code",
   "execution_count": null,
   "metadata": {},
   "outputs": [],
   "source": [
    "sns.distplot(pro_ser_fin.services_price_log,bins=20)"
   ]
  },
  {
   "cell_type": "code",
   "execution_count": null,
   "metadata": {},
   "outputs": [],
   "source": [
    "pro_ser_fin.head()"
   ]
  },
  {
   "cell_type": "code",
   "execution_count": null,
   "metadata": {},
   "outputs": [],
   "source": [
    "pro_ser_fin.to_csv(r'E:/Documents/Yagna/prep_data/pro_ser_fin_processed.csv',index=False)"
   ]
  },
  {
   "cell_type": "code",
   "execution_count": null,
   "metadata": {},
   "outputs": [],
   "source": []
  }
 ],
 "metadata": {
  "kernelspec": {
   "display_name": "Python 3",
   "language": "python",
   "name": "python3"
  },
  "language_info": {
   "codemirror_mode": {
    "name": "ipython",
    "version": 3
   },
   "file_extension": ".py",
   "mimetype": "text/x-python",
   "name": "python",
   "nbconvert_exporter": "python",
   "pygments_lexer": "ipython3",
   "version": "3.7.4"
  }
 },
 "nbformat": 4,
 "nbformat_minor": 2
}
